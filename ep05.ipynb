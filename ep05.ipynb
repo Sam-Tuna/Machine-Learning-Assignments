{
 "cells": [
  {
   "cell_type": "markdown",
   "metadata": {},
   "source": [
    "# MAC0460 / MAC5832 (2020)\n",
    "<hr>\n",
    "\n",
    "## EP5: Neural Networks\n",
    "\n",
    "The goal of this EP is to train and validate multiple architectures of neural networks\n",
    "(of the multilayer perceptron type) on the training set of MNIST, then choose one model, and\n",
    "finally evaluate its performance on the test set.\n",
    "\n",
    "### Topics / concepts explored in this EP:\n",
    "- scikit-learn (https://scikit-learn.org/)\n",
    "- neural networks (https://scikit-learn.org/stable/modules/generated/sklearn.neural_network.MLPClassifier.html)\n",
    "- model selection, based on cross-validation\n"
   ]
  },
  {
   "cell_type": "code",
   "execution_count": 1,
   "metadata": {},
   "outputs": [],
   "source": [
    "#import the libraries\n",
    "from tensorflow.keras.datasets import mnist\n",
    "import numpy as np\n",
    "\n",
    "import sklearn\n",
    "from sklearn.neural_network import MLPClassifier\n",
    "from sklearn.neural_network import MLPRegressor\n"
   ]
  },
  {
   "cell_type": "markdown",
   "metadata": {},
   "source": [
    "# Part 1: Data preparation #"
   ]
  },
  {
   "cell_type": "markdown",
   "metadata": {},
   "source": [
    "### Download the MINST dataset\n",
    "[1]: François Chollet and others, Keras, https://keras.io, 2015"
   ]
  },
  {
   "cell_type": "code",
   "execution_count": 2,
   "metadata": {},
   "outputs": [],
   "source": [
    "#save the dataset to a vector\n",
    "(X_train_all, y_train_all), (X_test, y_test) = mnist.load_data()"
   ]
  },
  {
   "cell_type": "markdown",
   "metadata": {},
   "source": [
    "### Constructing the reduced training set"
   ]
  },
  {
   "cell_type": "code",
   "execution_count": 3,
   "metadata": {},
   "outputs": [
    {
     "name": "stdout",
     "output_type": "stream",
     "text": [
      "(20000, 28, 28) (20000,)\n",
      "[0 0 0 ... 9 9 9]\n"
     ]
    }
   ],
   "source": [
    "n = 2000\n",
    "\n",
    "#chooses 2000 random examples of each class\n",
    "X_train=np.empty((0, 28, 28))\n",
    "y_train=np.empty(0, int)\n",
    "for i in range (0,10):\n",
    "    index = np.array(np.where(y_train_all==i))\n",
    "    tmp=np.random.choice(index[0], n, replace=False)\n",
    "    X_train = np.concatenate((X_train, X_train_all[tmp]), axis=0)\n",
    "    y_train = np.append(y_train, y_train_all[tmp])\n",
    "\n",
    "#normalizes the image values\n",
    "X_train=X_train/255\n",
    "print(X_train.shape, y_train.shape)\n",
    "print (y_train)"
   ]
  },
  {
   "cell_type": "markdown",
   "metadata": {},
   "source": [
    "### Shuffling the dataset\n",
    "The shuffle function here was taken from https://stackoverflow.com/questions/4601373/better-way-to-shuffle-two-numpy-arrays-in-unison"
   ]
  },
  {
   "cell_type": "code",
   "execution_count": 4,
   "metadata": {},
   "outputs": [],
   "source": [
    "def shuffle_in_unison(a, b):\n",
    "    rng_state = np.random.get_state()\n",
    "    np.random.shuffle(a)\n",
    "    np.random.set_state(rng_state)\n",
    "    np.random.shuffle(b)\n",
    "    \n",
    "shuffle_in_unison(X_train, y_train)"
   ]
  },
  {
   "cell_type": "markdown",
   "metadata": {},
   "source": [
    "### Visualization of the training set  "
   ]
  },
  {
   "cell_type": "code",
   "execution_count": 5,
   "metadata": {},
   "outputs": [
    {
     "name": "stdout",
     "output_type": "stream",
     "text": [
      "Data type of the training set: float64 int64\n",
      "Data type of the testing set: uint8 uint8\n",
      "Shape of the training set: (20000, 28, 28) (20000,)\n",
      "Shape of the testing set: (10000, 28, 28) (10000,)\n",
      "Minima of the training set: X: 0.0 y: 0\n",
      "Maxima of the training set: X: 1.0 y: 9\n",
      "Minima of the testing set: X: 0 y: 0\n",
      "Maxima of the testing set: X: 255 y: 9\n"
     ]
    },
    {
     "data": {
      "image/png": "[encoded data removed]",
      "text/plain": [
       "<Figure size 648x432 with 3 Axes>"
      ]
     },
     "metadata": {
      "needs_background": "light"
     },
     "output_type": "display_data"
    }
   ],
   "source": [
    "print(\"Data type of the training set:\", X_train.dtype, y_train.dtype)\n",
    "print(\"Data type of the testing set:\", X_test.dtype, y_test.dtype)\n",
    "\n",
    "print(\"Shape of the training set:\", X_train.shape, y_train.shape)\n",
    "print(\"Shape of the testing set:\", X_test.shape, y_test.shape)\n",
    "\n",
    "print(\"Minima of the training set: X:\", np.min(X_train), \"y:\", np.min(y_train))\n",
    "print(\"Maxima of the training set: X:\", np.max(X_train), \"y:\", np.max(y_train))\n",
    "\n",
    "print(\"Minima of the testing set: X:\", np.min(X_test), \"y:\", np.min(y_test))\n",
    "print(\"Maxima of the testing set: X:\", np.max(X_test), \"y:\", np.max(y_test))\n",
    "\n",
    "import matplotlib.pyplot as plt\n",
    "%matplotlib inline\n",
    "\n",
    "fig, ax = plt.subplots(1, 3, figsize = (9, 6))\n",
    "\n",
    "for i in range (3):\n",
    "    k=np.random.randint(low=1, high=20000)\n",
    "    ax[i].imshow(X_train[k], cmap='gray')\n",
    "    ax[i].axis('off')\n",
    "    ax[i].set_title(\"Class: %d\"%y_train[k])\n",
    "    \n",
    "plt.show()"
   ]
  },
  {
   "cell_type": "code",
   "execution_count": 6,
   "metadata": {},
   "outputs": [
    {
     "name": "stdout",
     "output_type": "stream",
     "text": [
      "Shape of the flatened X_train vector: (20000, 784)\n",
      "Shape of the flatened X_test vector: (10000, 784)\n"
     ]
    }
   ],
   "source": [
    "#Flatens the X_train and X_test array\n",
    "\n",
    "X_train=np.reshape(X_train, (20000, 784))\n",
    "print (\"Shape of the flatened X_train vector:\", X_train.shape)\n",
    "X_test=np.reshape(X_test, (10000, 784))\n",
    "print (\"Shape of the flatened X_test vector:\", X_test.shape)"
   ]
  },
  {
   "cell_type": "markdown",
   "metadata": {},
   "source": [
    "# Part 2: Model selection\n",
    "### Now we define our models and train them.\n",
    "- **Ichi** is the mandatory architecture, used in https://github.com/fchollet/deep-learning-with-python-notebooks/blob/master/2.1-a-first-look-at-a-neural-network.ipynb.\n",
    "- **Ni** is the architecture used in this 3Blue1Brown video: https://www.youtube.com/watch?v=aircAruvnKk, because it's a well done video from a YouTube channel I like.\n",
    "- **San** has three hidden layers with a triangular shape (256,128,64,32), a ReLU activation function, and the Adam optimization algorithm. These last two are the default parameters of the sklearn.neural_network.MLPClassifier function."
   ]
  },
  {
   "cell_type": "code",
   "execution_count": 7,
   "metadata": {},
   "outputs": [
    {
     "data": {
      "text/plain": [
       "5"
      ]
     },
     "execution_count": 7,
     "metadata": {},
     "output_type": "execute_result"
    }
   ],
   "source": [
    "#Setting up the stratified cross validation\n",
    "\n",
    "from sklearn.model_selection import StratifiedKFold\n",
    "\n",
    "skf = StratifiedKFold(5)\n",
    "\n",
    "skf.get_n_splits(X_train, y_train)"
   ]
  },
  {
   "cell_type": "code",
   "execution_count": 9,
   "metadata": {},
   "outputs": [
    {
     "name": "stderr",
     "output_type": "stream",
     "text": [
      "Using TensorFlow backend.\n"
     ]
    }
   ],
   "source": [
    "import pandas as pd\n",
    "from keras.utils import to_categorical\n",
    "\n",
    "def train_network(net, k_fold, train_X, train_y):\n",
    "    #trains a network keeping a history of its cross validation folds scores\n",
    "    \n",
    "    n_fold = 1\n",
    "    \n",
    "    train_score_history = []\n",
    "    test_score_history = []\n",
    "    \n",
    "    for i, j in k_fold.split(train_X, train_y):\n",
    "        \n",
    "        print(f\"FOLD NUMBER: {n_fold}\")\n",
    "        n_fold += 1\n",
    "        \n",
    "        print(25*'-'+'Class distribution on the training set')\n",
    "        print(pd.Series(train_y[i]).value_counts())\n",
    "        \n",
    "        print(25*'-'+'Class distribution on the test set')\n",
    "        print(pd.Series(train_y[j]).value_counts())\n",
    "        \n",
    "        train_y_cat = to_categorical(train_y)\n",
    "        \n",
    "        fold_train_X, fold_test_X = train_X[i], train_X[j]\n",
    "        fold_train_y, fold_test_y = train_y_cat[i], train_y_cat[j]\n",
    "        \n",
    "        \n",
    "        net.fit(fold_train_X, fold_train_y)\n",
    "        \n",
    "        print(25*'-'+'SCORING TEST SET..')\n",
    "        train_score = net.score(fold_train_X, fold_train_y)\n",
    "        test_score = net.score(fold_test_X, fold_test_y)\n",
    "        print(f'Train score: {train_score}')\n",
    "        print(f'Test score: {test_score}')\n",
    "        \n",
    "        train_score_history.append(train_score)\n",
    "        test_score_history.append(test_score)\n",
    "        \n",
    "        \n",
    "        if n_fold<5:\n",
    "            print('-'*40+'NEXT FOLD'+'-'*40)\n",
    "        \n",
    "        \n",
    "    \n",
    "    return pd.DataFrame({'Train Scores':train_score_history,'Test Scores':test_score_history})\n",
    "\n"
   ]
  },
  {
   "cell_type": "code",
   "execution_count": 44,
   "metadata": {
    "scrolled": true
   },
   "outputs": [
    {
     "name": "stdout",
     "output_type": "stream",
     "text": [
      "FOLD NUMBER: 1\n",
      "-------------------------Class distribution on the training set\n",
      "7    1600\n",
      "6    1600\n",
      "5    1600\n",
      "4    1600\n",
      "3    1600\n",
      "2    1600\n",
      "9    1600\n",
      "1    1600\n",
      "8    1600\n",
      "0    1600\n",
      "dtype: int64\n",
      "-------------------------Class distribution on the test set\n",
      "9    400\n",
      "7    400\n",
      "5    400\n",
      "3    400\n",
      "1    400\n",
      "8    400\n",
      "6    400\n",
      "4    400\n",
      "2    400\n",
      "0    400\n",
      "dtype: int64\n"
     ]
    },
    {
     "name": "stderr",
     "output_type": "stream",
     "text": [
      "/home/samir/.local/lib/python3.7/site-packages/sklearn/neural_network/_multilayer_perceptron.py:571: ConvergenceWarning: Stochastic Optimizer: Maximum iterations (50) reached and the optimization hasn't converged yet.\n",
      "  % self.max_iter, ConvergenceWarning)\n"
     ]
    },
    {
     "name": "stdout",
     "output_type": "stream",
     "text": [
      "-------------------------SCORING TEST SET..\n",
      "Train score: 1.0\n",
      "Test score: 0.9445\n",
      "----------------------------------------NEXT FOLD----------------------------------------\n",
      "FOLD NUMBER: 2\n",
      "-------------------------Class distribution on the training set\n",
      "7    1600\n",
      "6    1600\n",
      "5    1600\n",
      "4    1600\n",
      "3    1600\n",
      "2    1600\n",
      "9    1600\n",
      "1    1600\n",
      "8    1600\n",
      "0    1600\n",
      "dtype: int64\n",
      "-------------------------Class distribution on the test set\n",
      "9    400\n",
      "7    400\n",
      "5    400\n",
      "3    400\n",
      "1    400\n",
      "8    400\n",
      "6    400\n",
      "4    400\n",
      "2    400\n",
      "0    400\n",
      "dtype: int64\n"
     ]
    },
    {
     "name": "stderr",
     "output_type": "stream",
     "text": [
      "/home/samir/.local/lib/python3.7/site-packages/sklearn/neural_network/_multilayer_perceptron.py:571: ConvergenceWarning: Stochastic Optimizer: Maximum iterations (50) reached and the optimization hasn't converged yet.\n",
      "  % self.max_iter, ConvergenceWarning)\n"
     ]
    },
    {
     "name": "stdout",
     "output_type": "stream",
     "text": [
      "-------------------------SCORING TEST SET..\n",
      "Train score: 1.0\n",
      "Test score: 0.9475\n",
      "----------------------------------------NEXT FOLD----------------------------------------\n",
      "FOLD NUMBER: 3\n",
      "-------------------------Class distribution on the training set\n",
      "7    1600\n",
      "6    1600\n",
      "5    1600\n",
      "4    1600\n",
      "3    1600\n",
      "2    1600\n",
      "9    1600\n",
      "1    1600\n",
      "8    1600\n",
      "0    1600\n",
      "dtype: int64\n",
      "-------------------------Class distribution on the test set\n",
      "9    400\n",
      "7    400\n",
      "5    400\n",
      "3    400\n",
      "1    400\n",
      "8    400\n",
      "6    400\n",
      "4    400\n",
      "2    400\n",
      "0    400\n",
      "dtype: int64\n"
     ]
    },
    {
     "name": "stderr",
     "output_type": "stream",
     "text": [
      "/home/samir/.local/lib/python3.7/site-packages/sklearn/neural_network/_multilayer_perceptron.py:571: ConvergenceWarning: Stochastic Optimizer: Maximum iterations (50) reached and the optimization hasn't converged yet.\n",
      "  % self.max_iter, ConvergenceWarning)\n"
     ]
    },
    {
     "name": "stdout",
     "output_type": "stream",
     "text": [
      "-------------------------SCORING TEST SET..\n",
      "Train score: 1.0\n",
      "Test score: 0.938\n",
      "----------------------------------------NEXT FOLD----------------------------------------\n",
      "FOLD NUMBER: 4\n",
      "-------------------------Class distribution on the training set\n",
      "7    1600\n",
      "6    1600\n",
      "5    1600\n",
      "4    1600\n",
      "3    1600\n",
      "2    1600\n",
      "9    1600\n",
      "1    1600\n",
      "8    1600\n",
      "0    1600\n",
      "dtype: int64\n",
      "-------------------------Class distribution on the test set\n",
      "9    400\n",
      "7    400\n",
      "5    400\n",
      "3    400\n",
      "1    400\n",
      "8    400\n",
      "6    400\n",
      "4    400\n",
      "2    400\n",
      "0    400\n",
      "dtype: int64\n"
     ]
    },
    {
     "name": "stderr",
     "output_type": "stream",
     "text": [
      "/home/samir/.local/lib/python3.7/site-packages/sklearn/neural_network/_multilayer_perceptron.py:571: ConvergenceWarning: Stochastic Optimizer: Maximum iterations (50) reached and the optimization hasn't converged yet.\n",
      "  % self.max_iter, ConvergenceWarning)\n"
     ]
    },
    {
     "name": "stdout",
     "output_type": "stream",
     "text": [
      "-------------------------SCORING TEST SET..\n",
      "Train score: 1.0\n",
      "Test score: 0.9415\n",
      "FOLD NUMBER: 5\n",
      "-------------------------Class distribution on the training set\n",
      "7    1600\n",
      "6    1600\n",
      "5    1600\n",
      "4    1600\n",
      "3    1600\n",
      "2    1600\n",
      "9    1600\n",
      "1    1600\n",
      "8    1600\n",
      "0    1600\n",
      "dtype: int64\n",
      "-------------------------Class distribution on the test set\n",
      "9    400\n",
      "7    400\n",
      "5    400\n",
      "3    400\n",
      "1    400\n",
      "8    400\n",
      "6    400\n",
      "4    400\n",
      "2    400\n",
      "0    400\n",
      "dtype: int64\n"
     ]
    },
    {
     "name": "stderr",
     "output_type": "stream",
     "text": [
      "/home/samir/.local/lib/python3.7/site-packages/sklearn/neural_network/_multilayer_perceptron.py:571: ConvergenceWarning: Stochastic Optimizer: Maximum iterations (50) reached and the optimization hasn't converged yet.\n",
      "  % self.max_iter, ConvergenceWarning)\n"
     ]
    },
    {
     "name": "stdout",
     "output_type": "stream",
     "text": [
      "-------------------------SCORING TEST SET..\n",
      "Train score: 1.0\n",
      "Test score: 0.9495\n",
      "FOLD NUMBER: 1\n",
      "-------------------------Class distribution on the training set\n",
      "7    1600\n",
      "6    1600\n",
      "5    1600\n",
      "4    1600\n",
      "3    1600\n",
      "2    1600\n",
      "9    1600\n",
      "1    1600\n",
      "8    1600\n",
      "0    1600\n",
      "dtype: int64\n",
      "-------------------------Class distribution on the test set\n",
      "9    400\n",
      "7    400\n",
      "5    400\n",
      "3    400\n",
      "1    400\n",
      "8    400\n",
      "6    400\n",
      "4    400\n",
      "2    400\n",
      "0    400\n",
      "dtype: int64\n"
     ]
    },
    {
     "name": "stderr",
     "output_type": "stream",
     "text": [
      "/home/samir/.local/lib/python3.7/site-packages/sklearn/neural_network/_multilayer_perceptron.py:571: ConvergenceWarning: Stochastic Optimizer: Maximum iterations (50) reached and the optimization hasn't converged yet.\n",
      "  % self.max_iter, ConvergenceWarning)\n"
     ]
    },
    {
     "name": "stdout",
     "output_type": "stream",
     "text": [
      "-------------------------SCORING TEST SET..\n",
      "Train score: 0.799875\n",
      "Test score: 0.79425\n",
      "----------------------------------------NEXT FOLD----------------------------------------\n",
      "FOLD NUMBER: 2\n",
      "-------------------------Class distribution on the training set\n",
      "7    1600\n",
      "6    1600\n",
      "5    1600\n",
      "4    1600\n",
      "3    1600\n",
      "2    1600\n",
      "9    1600\n",
      "1    1600\n",
      "8    1600\n",
      "0    1600\n",
      "dtype: int64\n",
      "-------------------------Class distribution on the test set\n",
      "9    400\n",
      "7    400\n",
      "5    400\n",
      "3    400\n",
      "1    400\n",
      "8    400\n",
      "6    400\n",
      "4    400\n",
      "2    400\n",
      "0    400\n",
      "dtype: int64\n"
     ]
    },
    {
     "name": "stderr",
     "output_type": "stream",
     "text": [
      "/home/samir/.local/lib/python3.7/site-packages/sklearn/neural_network/_multilayer_perceptron.py:571: ConvergenceWarning: Stochastic Optimizer: Maximum iterations (50) reached and the optimization hasn't converged yet.\n",
      "  % self.max_iter, ConvergenceWarning)\n"
     ]
    },
    {
     "name": "stdout",
     "output_type": "stream",
     "text": [
      "-------------------------SCORING TEST SET..\n",
      "Train score: 0.78775\n",
      "Test score: 0.78725\n",
      "----------------------------------------NEXT FOLD----------------------------------------\n",
      "FOLD NUMBER: 3\n",
      "-------------------------Class distribution on the training set\n",
      "7    1600\n",
      "6    1600\n",
      "5    1600\n",
      "4    1600\n",
      "3    1600\n",
      "2    1600\n",
      "9    1600\n",
      "1    1600\n",
      "8    1600\n",
      "0    1600\n",
      "dtype: int64\n",
      "-------------------------Class distribution on the test set\n",
      "9    400\n",
      "7    400\n",
      "5    400\n",
      "3    400\n",
      "1    400\n",
      "8    400\n",
      "6    400\n",
      "4    400\n",
      "2    400\n",
      "0    400\n",
      "dtype: int64\n"
     ]
    },
    {
     "name": "stderr",
     "output_type": "stream",
     "text": [
      "/home/samir/.local/lib/python3.7/site-packages/sklearn/neural_network/_multilayer_perceptron.py:571: ConvergenceWarning: Stochastic Optimizer: Maximum iterations (50) reached and the optimization hasn't converged yet.\n",
      "  % self.max_iter, ConvergenceWarning)\n"
     ]
    },
    {
     "name": "stdout",
     "output_type": "stream",
     "text": [
      "-------------------------SCORING TEST SET..\n",
      "Train score: 0.807625\n",
      "Test score: 0.7895\n",
      "----------------------------------------NEXT FOLD----------------------------------------\n",
      "FOLD NUMBER: 4\n",
      "-------------------------Class distribution on the training set\n",
      "7    1600\n",
      "6    1600\n",
      "5    1600\n",
      "4    1600\n",
      "3    1600\n",
      "2    1600\n",
      "9    1600\n",
      "1    1600\n",
      "8    1600\n",
      "0    1600\n",
      "dtype: int64\n",
      "-------------------------Class distribution on the test set\n",
      "9    400\n",
      "7    400\n",
      "5    400\n",
      "3    400\n",
      "1    400\n",
      "8    400\n",
      "6    400\n",
      "4    400\n",
      "2    400\n",
      "0    400\n",
      "dtype: int64\n"
     ]
    },
    {
     "name": "stderr",
     "output_type": "stream",
     "text": [
      "/home/samir/.local/lib/python3.7/site-packages/sklearn/neural_network/_multilayer_perceptron.py:571: ConvergenceWarning: Stochastic Optimizer: Maximum iterations (50) reached and the optimization hasn't converged yet.\n",
      "  % self.max_iter, ConvergenceWarning)\n"
     ]
    },
    {
     "name": "stdout",
     "output_type": "stream",
     "text": [
      "-------------------------SCORING TEST SET..\n",
      "Train score: 0.795875\n",
      "Test score: 0.7895\n",
      "FOLD NUMBER: 5\n",
      "-------------------------Class distribution on the training set\n",
      "7    1600\n",
      "6    1600\n",
      "5    1600\n",
      "4    1600\n",
      "3    1600\n",
      "2    1600\n",
      "9    1600\n",
      "1    1600\n",
      "8    1600\n",
      "0    1600\n",
      "dtype: int64\n",
      "-------------------------Class distribution on the test set\n",
      "9    400\n",
      "7    400\n",
      "5    400\n",
      "3    400\n",
      "1    400\n",
      "8    400\n",
      "6    400\n",
      "4    400\n",
      "2    400\n",
      "0    400\n",
      "dtype: int64\n"
     ]
    },
    {
     "name": "stderr",
     "output_type": "stream",
     "text": [
      "/home/samir/.local/lib/python3.7/site-packages/sklearn/neural_network/_multilayer_perceptron.py:571: ConvergenceWarning: Stochastic Optimizer: Maximum iterations (50) reached and the optimization hasn't converged yet.\n",
      "  % self.max_iter, ConvergenceWarning)\n"
     ]
    },
    {
     "name": "stdout",
     "output_type": "stream",
     "text": [
      "-------------------------SCORING TEST SET..\n",
      "Train score: 0.78075\n",
      "Test score: 0.7795\n",
      "FOLD NUMBER: 1\n",
      "-------------------------Class distribution on the training set\n",
      "7    1600\n",
      "6    1600\n",
      "5    1600\n",
      "4    1600\n",
      "3    1600\n",
      "2    1600\n",
      "9    1600\n",
      "1    1600\n",
      "8    1600\n",
      "0    1600\n",
      "dtype: int64\n",
      "-------------------------Class distribution on the test set\n",
      "9    400\n",
      "7    400\n",
      "5    400\n",
      "3    400\n",
      "1    400\n",
      "8    400\n",
      "6    400\n",
      "4    400\n",
      "2    400\n",
      "0    400\n",
      "dtype: int64\n",
      "-------------------------SCORING TEST SET..\n",
      "Train score: 1.0\n",
      "Test score: 0.95325\n",
      "----------------------------------------NEXT FOLD----------------------------------------\n",
      "FOLD NUMBER: 2\n",
      "-------------------------Class distribution on the training set\n",
      "7    1600\n",
      "6    1600\n",
      "5    1600\n",
      "4    1600\n",
      "3    1600\n",
      "2    1600\n",
      "9    1600\n",
      "1    1600\n",
      "8    1600\n",
      "0    1600\n",
      "dtype: int64\n",
      "-------------------------Class distribution on the test set\n",
      "9    400\n",
      "7    400\n",
      "5    400\n",
      "3    400\n",
      "1    400\n",
      "8    400\n",
      "6    400\n",
      "4    400\n",
      "2    400\n",
      "0    400\n",
      "dtype: int64\n",
      "-------------------------SCORING TEST SET..\n",
      "Train score: 1.0\n",
      "Test score: 0.95475\n",
      "----------------------------------------NEXT FOLD----------------------------------------\n",
      "FOLD NUMBER: 3\n",
      "-------------------------Class distribution on the training set\n",
      "7    1600\n",
      "6    1600\n",
      "5    1600\n",
      "4    1600\n",
      "3    1600\n",
      "2    1600\n",
      "9    1600\n",
      "1    1600\n",
      "8    1600\n",
      "0    1600\n",
      "dtype: int64\n",
      "-------------------------Class distribution on the test set\n",
      "9    400\n",
      "7    400\n",
      "5    400\n",
      "3    400\n",
      "1    400\n",
      "8    400\n",
      "6    400\n",
      "4    400\n",
      "2    400\n",
      "0    400\n",
      "dtype: int64\n",
      "-------------------------SCORING TEST SET..\n",
      "Train score: 1.0\n",
      "Test score: 0.949\n",
      "----------------------------------------NEXT FOLD----------------------------------------\n",
      "FOLD NUMBER: 4\n",
      "-------------------------Class distribution on the training set\n",
      "7    1600\n",
      "6    1600\n",
      "5    1600\n",
      "4    1600\n",
      "3    1600\n",
      "2    1600\n",
      "9    1600\n",
      "1    1600\n",
      "8    1600\n",
      "0    1600\n",
      "dtype: int64\n",
      "-------------------------Class distribution on the test set\n",
      "9    400\n",
      "7    400\n",
      "5    400\n",
      "3    400\n",
      "1    400\n",
      "8    400\n",
      "6    400\n",
      "4    400\n",
      "2    400\n",
      "0    400\n",
      "dtype: int64\n",
      "-------------------------SCORING TEST SET..\n",
      "Train score: 1.0\n",
      "Test score: 0.9525\n",
      "FOLD NUMBER: 5\n",
      "-------------------------Class distribution on the training set\n",
      "7    1600\n",
      "6    1600\n",
      "5    1600\n",
      "4    1600\n",
      "3    1600\n",
      "2    1600\n",
      "9    1600\n",
      "1    1600\n",
      "8    1600\n",
      "0    1600\n",
      "dtype: int64\n",
      "-------------------------Class distribution on the test set\n",
      "9    400\n",
      "7    400\n",
      "5    400\n",
      "3    400\n",
      "1    400\n",
      "8    400\n",
      "6    400\n",
      "4    400\n",
      "2    400\n",
      "0    400\n",
      "dtype: int64\n",
      "-------------------------SCORING TEST SET..\n",
      "Train score: 1.0\n",
      "Test score: 0.95825\n"
     ]
    }
   ],
   "source": [
    "#Instatianting the models\n",
    "ichi = MLPClassifier(hidden_layer_sizes=(512), activation='relu', solver='adam', max_iter=50)\n",
    "ni = MLPClassifier(hidden_layer_sizes=(16,16), activation='tanh', solver='sgd', max_iter=50)\n",
    "san = MLPClassifier(hidden_layer_sizes=(256,128,64,32), activation='relu', solver='adam', max_iter=50)\n",
    "\n",
    "#training the networks\n",
    "ichi_data = train_network(ichi, skf, X_train, y_train)\n",
    "ni_data = train_network(ni, skf, X_train, y_train)\n",
    "san_data = train_network(san, skf, X_train, y_train)\n"
   ]
  },
  {
   "cell_type": "code",
   "execution_count": 24,
   "metadata": {},
   "outputs": [
    {
     "data": {
      "text/html": [
       "<div>\n",
       "<style scoped>\n",
       "    .dataframe tbody tr th:only-of-type {\n",
       "        vertical-align: middle;\n",
       "    }\n",
       "\n",
       "    .dataframe tbody tr th {\n",
       "        vertical-align: top;\n",
       "    }\n",
       "\n",
       "    .dataframe thead th {\n",
       "        text-align: right;\n",
       "    }\n",
       "</style>\n",
       "<table border=\"1\" class=\"dataframe\">\n",
       "  <thead>\n",
       "    <tr style=\"text-align: right;\">\n",
       "      <th></th>\n",
       "      <th>Train Scores</th>\n",
       "      <th>Test Scores</th>\n",
       "    </tr>\n",
       "  </thead>\n",
       "  <tbody>\n",
       "    <tr>\n",
       "      <th>count</th>\n",
       "      <td>5.0</td>\n",
       "      <td>5.000000</td>\n",
       "    </tr>\n",
       "    <tr>\n",
       "      <th>mean</th>\n",
       "      <td>1.0</td>\n",
       "      <td>0.943750</td>\n",
       "    </tr>\n",
       "    <tr>\n",
       "      <th>std</th>\n",
       "      <td>0.0</td>\n",
       "      <td>0.002878</td>\n",
       "    </tr>\n",
       "    <tr>\n",
       "      <th>min</th>\n",
       "      <td>1.0</td>\n",
       "      <td>0.939750</td>\n",
       "    </tr>\n",
       "    <tr>\n",
       "      <th>25%</th>\n",
       "      <td>1.0</td>\n",
       "      <td>0.942000</td>\n",
       "    </tr>\n",
       "    <tr>\n",
       "      <th>50%</th>\n",
       "      <td>1.0</td>\n",
       "      <td>0.944250</td>\n",
       "    </tr>\n",
       "    <tr>\n",
       "      <th>75%</th>\n",
       "      <td>1.0</td>\n",
       "      <td>0.946250</td>\n",
       "    </tr>\n",
       "    <tr>\n",
       "      <th>max</th>\n",
       "      <td>1.0</td>\n",
       "      <td>0.946500</td>\n",
       "    </tr>\n",
       "  </tbody>\n",
       "</table>\n",
       "</div>"
      ],
      "text/plain": [
       "       Train Scores  Test Scores\n",
       "count           5.0     5.000000\n",
       "mean            1.0     0.943750\n",
       "std             0.0     0.002878\n",
       "min             1.0     0.939750\n",
       "25%             1.0     0.942000\n",
       "50%             1.0     0.944250\n",
       "75%             1.0     0.946250\n",
       "max             1.0     0.946500"
      ]
     },
     "execution_count": 24,
     "metadata": {},
     "output_type": "execute_result"
    }
   ],
   "source": [
    "#ichi network scores\n",
    "ichi_data.describe()"
   ]
  },
  {
   "cell_type": "code",
   "execution_count": 45,
   "metadata": {},
   "outputs": [
    {
     "data": {
      "text/html": [
       "<div>\n",
       "<style scoped>\n",
       "    .dataframe tbody tr th:only-of-type {\n",
       "        vertical-align: middle;\n",
       "    }\n",
       "\n",
       "    .dataframe tbody tr th {\n",
       "        vertical-align: top;\n",
       "    }\n",
       "\n",
       "    .dataframe thead th {\n",
       "        text-align: right;\n",
       "    }\n",
       "</style>\n",
       "<table border=\"1\" class=\"dataframe\">\n",
       "  <thead>\n",
       "    <tr style=\"text-align: right;\">\n",
       "      <th></th>\n",
       "      <th>Train Scores</th>\n",
       "      <th>Test Scores</th>\n",
       "    </tr>\n",
       "  </thead>\n",
       "  <tbody>\n",
       "    <tr>\n",
       "      <th>count</th>\n",
       "      <td>5.000000</td>\n",
       "      <td>5.000000</td>\n",
       "    </tr>\n",
       "    <tr>\n",
       "      <th>mean</th>\n",
       "      <td>0.794375</td>\n",
       "      <td>0.788000</td>\n",
       "    </tr>\n",
       "    <tr>\n",
       "      <th>std</th>\n",
       "      <td>0.010459</td>\n",
       "      <td>0.005394</td>\n",
       "    </tr>\n",
       "    <tr>\n",
       "      <th>min</th>\n",
       "      <td>0.780750</td>\n",
       "      <td>0.779500</td>\n",
       "    </tr>\n",
       "    <tr>\n",
       "      <th>25%</th>\n",
       "      <td>0.787750</td>\n",
       "      <td>0.787250</td>\n",
       "    </tr>\n",
       "    <tr>\n",
       "      <th>50%</th>\n",
       "      <td>0.795875</td>\n",
       "      <td>0.789500</td>\n",
       "    </tr>\n",
       "    <tr>\n",
       "      <th>75%</th>\n",
       "      <td>0.799875</td>\n",
       "      <td>0.789500</td>\n",
       "    </tr>\n",
       "    <tr>\n",
       "      <th>max</th>\n",
       "      <td>0.807625</td>\n",
       "      <td>0.794250</td>\n",
       "    </tr>\n",
       "  </tbody>\n",
       "</table>\n",
       "</div>"
      ],
      "text/plain": [
       "       Train Scores  Test Scores\n",
       "count      5.000000     5.000000\n",
       "mean       0.794375     0.788000\n",
       "std        0.010459     0.005394\n",
       "min        0.780750     0.779500\n",
       "25%        0.787750     0.787250\n",
       "50%        0.795875     0.789500\n",
       "75%        0.799875     0.789500\n",
       "max        0.807625     0.794250"
      ]
     },
     "execution_count": 45,
     "metadata": {},
     "output_type": "execute_result"
    }
   ],
   "source": [
    "#ni network scores\n",
    "ni_data.describe()"
   ]
  },
  {
   "cell_type": "code",
   "execution_count": 26,
   "metadata": {},
   "outputs": [
    {
     "data": {
      "text/html": [
       "<div>\n",
       "<style scoped>\n",
       "    .dataframe tbody tr th:only-of-type {\n",
       "        vertical-align: middle;\n",
       "    }\n",
       "\n",
       "    .dataframe tbody tr th {\n",
       "        vertical-align: top;\n",
       "    }\n",
       "\n",
       "    .dataframe thead th {\n",
       "        text-align: right;\n",
       "    }\n",
       "</style>\n",
       "<table border=\"1\" class=\"dataframe\">\n",
       "  <thead>\n",
       "    <tr style=\"text-align: right;\">\n",
       "      <th></th>\n",
       "      <th>Train Scores</th>\n",
       "      <th>Test Scores</th>\n",
       "    </tr>\n",
       "  </thead>\n",
       "  <tbody>\n",
       "    <tr>\n",
       "      <th>count</th>\n",
       "      <td>5.0</td>\n",
       "      <td>5.000000</td>\n",
       "    </tr>\n",
       "    <tr>\n",
       "      <th>mean</th>\n",
       "      <td>1.0</td>\n",
       "      <td>0.953700</td>\n",
       "    </tr>\n",
       "    <tr>\n",
       "      <th>std</th>\n",
       "      <td>0.0</td>\n",
       "      <td>0.002636</td>\n",
       "    </tr>\n",
       "    <tr>\n",
       "      <th>min</th>\n",
       "      <td>1.0</td>\n",
       "      <td>0.950000</td>\n",
       "    </tr>\n",
       "    <tr>\n",
       "      <th>25%</th>\n",
       "      <td>1.0</td>\n",
       "      <td>0.952000</td>\n",
       "    </tr>\n",
       "    <tr>\n",
       "      <th>50%</th>\n",
       "      <td>1.0</td>\n",
       "      <td>0.954500</td>\n",
       "    </tr>\n",
       "    <tr>\n",
       "      <th>75%</th>\n",
       "      <td>1.0</td>\n",
       "      <td>0.956000</td>\n",
       "    </tr>\n",
       "    <tr>\n",
       "      <th>max</th>\n",
       "      <td>1.0</td>\n",
       "      <td>0.956000</td>\n",
       "    </tr>\n",
       "  </tbody>\n",
       "</table>\n",
       "</div>"
      ],
      "text/plain": [
       "       Train Scores  Test Scores\n",
       "count           5.0     5.000000\n",
       "mean            1.0     0.953700\n",
       "std             0.0     0.002636\n",
       "min             1.0     0.950000\n",
       "25%             1.0     0.952000\n",
       "50%             1.0     0.954500\n",
       "75%             1.0     0.956000\n",
       "max             1.0     0.956000"
      ]
     },
     "execution_count": 26,
     "metadata": {},
     "output_type": "execute_result"
    }
   ],
   "source": [
    "#san network scores\n",
    "san_data.describe()"
   ]
  },
  {
   "cell_type": "markdown",
   "metadata": {},
   "source": [
    "# Part 3: Model evaluation\n",
    "\n",
    "The **ichi** and **san** networks have similar results, with **san** having slightly less error, so this is the network that will be used."
   ]
  },
  {
   "cell_type": "code",
   "execution_count": 39,
   "metadata": {},
   "outputs": [
    {
     "name": "stderr",
     "output_type": "stream",
     "text": [
      "/home/samir/.local/lib/python3.7/site-packages/sklearn/neural_network/_multilayer_perceptron.py:571: ConvergenceWarning: Stochastic Optimizer: Maximum iterations (10) reached and the optimization hasn't converged yet.\n",
      "  % self.max_iter, ConvergenceWarning)\n"
     ]
    },
    {
     "data": {
      "text/plain": [
       "MLPClassifier(activation='relu', alpha=0.0001, batch_size='auto', beta_1=0.9,\n",
       "              beta_2=0.999, early_stopping=False, epsilon=1e-08,\n",
       "              hidden_layer_sizes=(256, 128, 64, 32), learning_rate='constant',\n",
       "              learning_rate_init=0.001, max_fun=15000, max_iter=10,\n",
       "              momentum=0.9, n_iter_no_change=10, nesterovs_momentum=True,\n",
       "              power_t=0.5, random_state=None, shuffle=True, solver='adam',\n",
       "              tol=0.0001, validation_fraction=0.1, verbose=False,\n",
       "              warm_start=False)"
      ]
     },
     "execution_count": 39,
     "metadata": {},
     "output_type": "execute_result"
    }
   ],
   "source": [
    "san = MLPClassifier(hidden_layer_sizes=(256,128,64,32), activation='relu', solver='adam', max_iter=10) #Here i set the maximum number of iteractions to 10 to be able to calculate the learning curve quicker\n",
    "san.fit(X_train,y_train)"
   ]
  },
  {
   "cell_type": "code",
   "execution_count": 41,
   "metadata": {},
   "outputs": [],
   "source": [
    "from sklearn.model_selection import learning_curve\n",
    "\n",
    "train_sizes, train_scores, test_scores = learning_curve(san, \n",
    "                                                        X_train, \n",
    "                                                        y_train,\n",
    "                                                        cv=5,\n",
    "                                                        scoring='accuracy',\n",
    "                                                        n_jobs=-1,\n",
    "                                                        train_sizes=np.linspace(0.01, 1.0, 50))"
   ]
  },
  {
   "cell_type": "code",
   "execution_count": 43,
   "metadata": {},
   "outputs": [
    {
     "data": {
      "image/png": "[encoded data removed]",
      "text/plain": [
       "<Figure size 432x288 with 1 Axes>"
      ]
     },
     "metadata": {
      "needs_background": "light"
     },
     "output_type": "display_data"
    }
   ],
   "source": [
    "# Create means and standard deviations of training set scores\n",
    "train_mean = np.mean(train_scores, axis=1)\n",
    "train_std = np.std(train_scores, axis=1)\n",
    "\n",
    "# Create means and standard deviations of test set scores\n",
    "test_mean = np.mean(test_scores, axis=1)\n",
    "test_std = np.std(test_scores, axis=1)\n",
    "\n",
    "# Draw lines\n",
    "plt.plot(train_sizes, train_mean, '--', color=\"#400080\",  label=\"Training score\")\n",
    "plt.plot(train_sizes, test_mean, color=\"#400080\", label=\"Cross-validation score\")\n",
    "\n",
    "# Create plot\n",
    "plt.show()"
   ]
  },
  {
   "cell_type": "code",
   "execution_count": 40,
   "metadata": {},
   "outputs": [
    {
     "name": "stdout",
     "output_type": "stream",
     "text": [
      "Number of examples of each class on the test set:\n",
      "\n",
      "1    1135\n",
      "2    1032\n",
      "7    1028\n",
      "3    1010\n",
      "9    1009\n",
      "4     982\n",
      "0     980\n",
      "8     974\n",
      "6     958\n",
      "5     892\n",
      "dtype: int64\n"
     ]
    }
   ],
   "source": [
    "#Value counts in the test set\n",
    "print(\"Number of examples of each class on the test set:\\n\")\n",
    "print(pd.Series(y_test).value_counts())"
   ]
  },
  {
   "cell_type": "code",
   "execution_count": 34,
   "metadata": {},
   "outputs": [
    {
     "name": "stdout",
     "output_type": "stream",
     "text": [
      "Confusion Matrix:\n",
      "\n",
      " [[ 969    0    2    0    0    0    3    3    3    0]\n",
      " [   0 1127    2    0    0    0    2    2    2    0]\n",
      " [   7    3  999    6    1    1    1    9    5    0]\n",
      " [   1    0    6  984    1    3    0    7    7    1]\n",
      " [   2    1    4    0  950    0    3    7    3   12]\n",
      " [   3    0    0   11    1  863    4    2    3    5]\n",
      " [   6    3    1    0    4   10  933    0    1    0]\n",
      " [   1    4    8    4    0    0    0 1005    0    6]\n",
      " [   2    1    4    9    3    4    3    5  941    2]\n",
      " [   2    2    0    9    6    1    2   14    3  970]]\n",
      "\n",
      "Classification report:\n",
      "\n",
      "               precision    recall  f1-score   support\n",
      "\n",
      "           0       0.98      0.99      0.98       980\n",
      "           1       0.99      0.99      0.99      1135\n",
      "           2       0.97      0.97      0.97      1032\n",
      "           3       0.96      0.97      0.97      1010\n",
      "           4       0.98      0.97      0.98       982\n",
      "           5       0.98      0.97      0.97       892\n",
      "           6       0.98      0.97      0.98       958\n",
      "           7       0.95      0.98      0.97      1028\n",
      "           8       0.97      0.97      0.97       974\n",
      "           9       0.97      0.96      0.97      1009\n",
      "\n",
      "    accuracy                           0.97     10000\n",
      "   macro avg       0.97      0.97      0.97     10000\n",
      "weighted avg       0.97      0.97      0.97     10000\n",
      "\n"
     ]
    }
   ],
   "source": [
    "from sklearn.metrics import classification_report, confusion_matrix\n",
    "\n",
    "#Plotting the confusion matrix, and also a classification report\n",
    "predict_train = san.predict(X_train)\n",
    "predict_test = san.predict(X_test)\n",
    "print(\"Confusion Matrix:\\n\\n\", confusion_matrix(y_test, predict_test))\n",
    "print(\"\\nClassification report:\\n\\n\", classification_report(y_test, predict_test))"
   ]
  }
 ],
 "metadata": {
  "kernelspec": {
   "display_name": "Python 3",
   "language": "python",
   "name": "python3"
  },
  "language_info": {
   "codemirror_mode": {
    "name": "ipython",
    "version": 3
   },
   "file_extension": ".py",
   "mimetype": "text/x-python",
   "name": "python",
   "nbconvert_exporter": "python",
   "pygments_lexer": "ipython3",
   "version": "3.7.6"
  }
 },
 "nbformat": 4,
 "nbformat_minor": 4
}
